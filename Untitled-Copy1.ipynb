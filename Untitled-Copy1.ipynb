{
 "cells": [
  {
   "cell_type": "markdown",
   "metadata": {},
   "source": [
    "# number types\n",
    "## boolean\n",
    "## float\n",
    "## integer\n",
    "## complex\n",
    "## all numbers are immutable values\n",
    "## modified,if they modified new reference is\n",
    "## pointing to modified value\n"
   ]
  },
  {
   "cell_type": "code",
   "execution_count": 1,
   "metadata": {},
   "outputs": [],
   "source": [
    "x=0\n",
    "while False:\n",
    "    x=x+1\n",
    "    print('so good to see you')"
   ]
  },
  {
   "cell_type": "code",
   "execution_count": 1,
   "metadata": {},
   "outputs": [
    {
     "name": "stdout",
     "output_type": "stream",
     "text": [
      "1808124208\n"
     ]
    }
   ],
   "source": [
    "a=10\n",
    "print(id(a))"
   ]
  },
  {
   "cell_type": "code",
   "execution_count": 2,
   "metadata": {},
   "outputs": [
    {
     "name": "stdout",
     "output_type": "stream",
     "text": [
      "(7+12j)\n",
      "(-3-2j)\n",
      "(-25+39j)\n"
     ]
    }
   ],
   "source": [
    "c=2+5j\n",
    "d=5+7j\n",
    "print(c+d)\n",
    "print(c-d)\n",
    "print(c*d)"
   ]
  },
  {
   "cell_type": "code",
   "execution_count": 3,
   "metadata": {},
   "outputs": [
    {
     "name": "stdout",
     "output_type": "stream",
     "text": [
      "gitam\n",
      "gitam\n",
      "<class 'str'> <class 'str'>\n",
      "5\n"
     ]
    }
   ],
   "source": [
    "str=\"gitam\"\n",
    "str1='gitam'\n",
    "print(str)\n",
    "print(str1)\n",
    "print(type(str),type(str1))\n",
    "print(len(str))"
   ]
  },
  {
   "cell_type": "markdown",
   "metadata": {},
   "source": [
    "# type conversions\n",
    "## int()\n",
    "## float()\n",
    "## complex()\n",
    "## list()\n",
    "## tuple()\n",
    "## set()\n",
    "## dict()\n",
    "## bool()\n"
   ]
  },
  {
   "cell_type": "markdown",
   "metadata": {},
   "source": [
    "# input()\n",
    "## it is used to give the input to the program\n",
    "## and its type is string andby\n",
    "## using type conversions to convert it into\n",
    "## other types\n"
   ]
  },
  {
   "cell_type": "code",
   "execution_count": 4,
   "metadata": {},
   "outputs": [
    {
     "name": "stdout",
     "output_type": "stream",
     "text": [
      "enter the number17\n",
      "<class 'str'>\n",
      "<class 'int'>\n",
      "the number is 17\n"
     ]
    }
   ],
   "source": [
    "a=input(\"enter the number\")\n",
    "print(type(a))\n",
    "b=int(a)\n",
    "print(type(b))\n",
    "print(\"the number is\",b)"
   ]
  },
  {
   "cell_type": "code",
   "execution_count": 5,
   "metadata": {},
   "outputs": [
    {
     "name": "stdout",
     "output_type": "stream",
     "text": [
      "enter the first number12\n",
      "enter the second number23\n",
      "the sum is 35\n"
     ]
    }
   ],
   "source": [
    "a=int(input(\"enter the first number\"))\n",
    "b=int(input(\"enter the second number\"))\n",
    "c=a+b\n",
    "print(\"the sum is\",c)"
   ]
  },
  {
   "cell_type": "markdown",
   "metadata": {},
   "source": [
    "# types of operators:\n",
    "## arithmetic operators\n",
    "   ### +,-,*,//(decimal quotient),//(integer quotient)\n",
    "   ### //(floor division)\n",
    "   ### % remainder\n",
    "   ###  ** power\n",
    "   "
   ]
  },
  {
   "cell_type": "code",
   "execution_count": 6,
   "metadata": {},
   "outputs": [
    {
     "name": "stdout",
     "output_type": "stream",
     "text": [
      "17\n",
      "7\n",
      "60\n",
      "2.4\n",
      "248832\n"
     ]
    }
   ],
   "source": [
    "a=12\n",
    "b=5\n",
    "print(a+b)\n",
    "print(a-b)\n",
    "print(a*b)\n",
    "print(a/b)\n",
    "print(a**b)"
   ]
  },
  {
   "cell_type": "markdown",
   "metadata": {},
   "source": [
    "## relational operators:\n",
    "### <,>,<=,>=,==,!=\n"
   ]
  },
  {
   "cell_type": "code",
   "execution_count": 8,
   "metadata": {},
   "outputs": [
    {
     "name": "stdout",
     "output_type": "stream",
     "text": [
      "False\n",
      "True\n",
      "False\n",
      "True\n",
      "1\n",
      "0\n"
     ]
    }
   ],
   "source": [
    "a=12\n",
    "b=5\n",
    "print(a<b)\n",
    "print(a>b)\n",
    "print(a==b)\n",
    "print(a!=b)\n",
    "print(int(a>b))\n",
    "print(int(b>a))"
   ]
  },
  {
   "cell_type": "markdown",
   "metadata": {},
   "source": [
    "# logical operators\n",
    "## and or not"
   ]
  },
  {
   "cell_type": "code",
   "execution_count": 9,
   "metadata": {},
   "outputs": [
    {
     "name": "stdout",
     "output_type": "stream",
     "text": [
      "False\n"
     ]
    }
   ],
   "source": [
    "x=20\n",
    "print(x>=20 and x>=30)"
   ]
  },
  {
   "cell_type": "markdown",
   "metadata": {},
   "source": [
    "# membership operators\n",
    "## in, not in"
   ]
  },
  {
   "cell_type": "code",
   "execution_count": 10,
   "metadata": {},
   "outputs": [
    {
     "name": "stdout",
     "output_type": "stream",
     "text": [
      "True\n",
      "True\n"
     ]
    }
   ],
   "source": [
    "str1=\"gitam\"\n",
    "print('i' in str1)\n",
    "print('z' not in str1)"
   ]
  },
  {
   "cell_type": "markdown",
   "metadata": {},
   "source": [
    "# identity operators"
   ]
  },
  {
   "cell_type": "code",
   "execution_count": 11,
   "metadata": {},
   "outputs": [
    {
     "name": "stdout",
     "output_type": "stream",
     "text": [
      "False\n",
      "True\n"
     ]
    }
   ],
   "source": [
    "a=45\n",
    "b=122\n",
    "print(a is b)\n",
    "print(a is not b)"
   ]
  },
  {
   "cell_type": "code",
   "execution_count": 12,
   "metadata": {},
   "outputs": [
    {
     "name": "stdout",
     "output_type": "stream",
     "text": [
      "the value of a is 100\n",
      "[1, 2, 3, 4, 5, 6]\n",
      "gitamgitamgitam\n",
      "it\n",
      "[1, 3, 5, 7, 9]\n"
     ]
    }
   ],
   "source": [
    "a=100\n",
    "print(\"the value of a is\",a)\n",
    "c=[1,2,3]\n",
    "d=[4,5,6]\n",
    "print(c+d)\n",
    "d=\"gitam\"\n",
    "print(d*3)\n",
    "print(d[1:3])\n",
    "print(list(range(1,10,2)))"
   ]
  },
  {
   "cell_type": "code",
   "execution_count": null,
   "metadata": {},
   "outputs": [],
   "source": [
    "a=int(input(\"enter the number\"))\n",
    "if(a>0):\n",
    "    print(\"it is positive number\")\n",
    "if(a<0):\n",
    "    print(\"it is negative number\")"
   ]
  }
 ],
 "metadata": {
  "kernelspec": {
   "display_name": "Python 3",
   "language": "python",
   "name": "python3"
  },
  "language_info": {
   "codemirror_mode": {
    "name": "ipython",
    "version": 3
   },
   "file_extension": ".py",
   "mimetype": "text/x-python",
   "name": "python",
   "nbconvert_exporter": "python",
   "pygments_lexer": "ipython3",
   "version": "3.7.3"
  }
 },
 "nbformat": 4,
 "nbformat_minor": 2
}
